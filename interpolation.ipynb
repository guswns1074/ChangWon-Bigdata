{
 "cells": [
  {
   "cell_type": "code",
   "execution_count": 25,
   "metadata": {},
   "outputs": [
    {
     "data": {
      "image/png": "[encoded data removed]",
      "text/plain": [
       "<Figure size 432x288 with 1 Axes>"
      ]
     },
     "metadata": {},
     "output_type": "display_data"
    },
    {
     "name": "stdout",
     "output_type": "stream",
     "text": [
      "[array([128.574101  , 128.574101  , 128.65134586, 128.698237  ,\n",
      "       128.698237  ]), array([35.1549819 , 35.1549819 , 35.22076576, 35.2434083 , 35.2434083 ]), array([-2668.97943564,   286.45130413, -4854.98859185,  6808.14456964,\n",
      "        -604.65007362,   790.60078374, -1442.34771245,    -8.67314125,\n",
      "         174.37569833]), 1, 1]\n"
     ]
    }
   ],
   "source": [
    "import os\n",
    "import conda\n",
    "\n",
    "\n",
    "os.environ[\"PROJ_LIB\"] = r\"C:\\Users\\CPB06GameN\\Anaconda3\\pkgs\\proj4-5.2.0-ha925a31_1\\Library\\share\"\n",
    "\n",
    "from mpl_toolkits.basemap import Basemap,maskoceans\n",
    "import matplotlib.pyplot as plt\n",
    "import numpy as np\n",
    "from scipy import interpolate\n",
    "\n",
    "\n",
    "map = Basemap(projection='merc', lat_0=35.1827, lon_0=128.6232, resolution = 'h',\n",
    "        urcrnrlat=35.458821, llcrnrlat=34.9928, llcrnrlon=128.353563, urcrnrlon=128.967817)\n",
    "\n",
    "\n",
    "map.drawcoastlines(linewidth=0.25)\n",
    "map.drawcountries(linewidth=0.25)\n",
    "\n",
    "map.drawmeridians(np.arange(0,360,30))\n",
    "map.drawparallels(np.arange(-90,90,30))\n",
    "\n",
    "\n",
    "data = {'경화동' : (128.689528,35.1549819,90), #61.53\n",
    "        '명서동' : (128.64176,35.2434083,90), # 61.03\n",
    "        '봉암동' : (128.602486,35.2176096,0), # 59.8\n",
    "        '사파동' : (128.698237,35.2218386,0), # 60.9\n",
    "        '용지동' : (128.684517,35.236053,180), # 66.5\n",
    "        '웅남동' : (128.658286,35.2122894,270), # 69\n",
    "        '회원동' : (128.574101,35.2183963,180),# 63.66\n",
    "        '반송로' : (128.664748,35.2340283,180) } # 65.53\n",
    "\n",
    "x,y,z = zip(*data.values())\n",
    "\n",
    "xnew, ynew = np.mgrid[-30:60:0.1, -50:50:0.1]\n",
    "\n",
    "tck = interpolate.bisplrep(x, y, z, s=0,kx=1,ky=1)\n",
    "znew = interpolate.bisplev(xnew[:,0], ynew[0,:], tck)\n",
    "\n",
    "col_plot = map.pcolormesh(xnew, ynew, znew, latlon=True, cmap='hsv')\n",
    "plt.show()\n",
    "\n",
    "print(tck)"
   ]
  }
 ],
 "metadata": {
  "kernelspec": {
   "display_name": "Python 3",
   "language": "python",
   "name": "python3"
  },
  "language_info": {
   "codemirror_mode": {
    "name": "ipython",
    "version": 3
   },
   "file_extension": ".py",
   "mimetype": "text/x-python",
   "name": "python",
   "nbconvert_exporter": "python",
   "pygments_lexer": "ipython3",
   "version": "3.7.3"
  }
 },
 "nbformat": 4,
 "nbformat_minor": 2
}
