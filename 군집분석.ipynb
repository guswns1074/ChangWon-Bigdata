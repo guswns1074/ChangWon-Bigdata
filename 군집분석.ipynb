{
 "cells": [
  {
   "cell_type": "code",
   "execution_count": 28,
   "metadata": {},
   "outputs": [],
   "source": [
    "def elbow(X):\n",
    "    sse = []\n",
    "    for i in range(1,11):\n",
    "        km = KMeans(n_clusters=i, init = 'k-means++', random_state=0)\n",
    "        km.fit(X)\n",
    "        sse.append(km.inertia_)\n",
    "    \n",
    "    plt.plot(range(1,11),sse,marker='o')\n",
    "    plt.xlabel('클러스터 개수')\n",
    "    plt.ylabel('SSE')\n",
    "    plt.show()"
   ]
  },
  {
   "cell_type": "code",
   "execution_count": 47,
   "metadata": {},
   "outputs": [],
   "source": [
    "import pandas as pd\n",
    "\n",
    "df = pd.read_excel(\"보간법_scaled.xlsx\")"
   ]
  },
  {
   "cell_type": "code",
   "execution_count": 52,
   "metadata": {
    "scrolled": true
   },
   "outputs": [],
   "source": [
    "df = pd.DataFrame(df, columns = ['pm10','O3'])"
   ]
  },
  {
   "cell_type": "code",
   "execution_count": 27,
   "metadata": {},
   "outputs": [
    {
     "data": {
      "text/plain": [
       "<Figure size 640x480 with 1 Axes>"
      ]
     },
     "metadata": {},
     "output_type": "display_data"
    }
   ],
   "source": [
    "from sklearn.cluster import KMeans\n",
    "from matplotlib import pyplot as plt\n",
    "elbow(df)"
   ]
  },
  {
   "cell_type": "code",
   "execution_count": 53,
   "metadata": {},
   "outputs": [
    {
     "data": {
      "image/png": "[encoded data removed]",
      "text/plain": [
       "<Figure size 432x288 with 1 Axes>"
      ]
     },
     "metadata": {
      "needs_background": "light"
     },
     "output_type": "display_data"
    }
   ],
   "source": [
    "sse = []\n",
    "for i in range(1,11):\n",
    "    km = KMeans(n_clusters=i, init = 'k-means++', random_state=0)\n",
    "    km.fit(df)\n",
    "    sse.append(km.inertia_)\n",
    "    \n",
    "plt.plot(range(1,11),sse,marker='o')\n",
    "plt.xlabel('클러스터 개수')\n",
    "plt.ylabel('SSE')\n",
    "plt.show()"
   ]
  }
 ],
 "metadata": {
  "kernelspec": {
   "display_name": "Python 3",
   "language": "python",
   "name": "python3"
  },
  "language_info": {
   "codemirror_mode": {
    "name": "ipython",
    "version": 3
   },
   "file_extension": ".py",
   "mimetype": "text/x-python",
   "name": "python",
   "nbconvert_exporter": "python",
   "pygments_lexer": "ipython3",
   "version": "3.7.3"
  }
 },
 "nbformat": 4,
 "nbformat_minor": 2
}
